{
  "nbformat": 4,
  "nbformat_minor": 0,
  "metadata": {
    "colab": {
      "provenance": []
    },
    "kernelspec": {
      "name": "python3",
      "display_name": "Python 3"
    },
    "language_info": {
      "name": "python"
    }
  },
  "cells": [
    {
      "cell_type": "code",
      "execution_count": 30,
      "metadata": {
        "id": "rNUbV2TGhZmz"
      },
      "outputs": [],
      "source": [
        "# Importing Libraries\n",
        "import numpy as np\n",
        "import pandas as pd\n",
        "import matplotlib.pyplot as plt"
      ]
    },
    {
      "cell_type": "code",
      "source": [
        "# Importing Dataset\n",
        "dataset = pd.read_csv('Position_Salaries.csv')\n",
        "X = dataset.iloc[:, 1:-1].values\n",
        "y = dataset.iloc[:, -1].values"
      ],
      "metadata": {
        "id": "i3WgZDRCho-3"
      },
      "execution_count": 31,
      "outputs": []
    },
    {
      "cell_type": "code",
      "source": [
        "# Training the Linear Regression model on the whole dataset\n",
        "from sklearn.linear_model import LinearRegression\n",
        "regressor = LinearRegression()\n",
        "regressor.fit(X, y)"
      ],
      "metadata": {
        "id": "mrGt9gc2s_p5"
      },
      "execution_count": null,
      "outputs": []
    },
    {
      "cell_type": "code",
      "source": [
        "# Training the Polynomial Regression model on the whole dataset with degree 2\n",
        "from sklearn.preprocessing import PolynomialFeatures\n",
        "\n",
        "regressor_2 = PolynomialFeatures(degree = 2)\n",
        "X_poly = regressor_2.fit_transform(X)\n",
        "linear_reg_1 = LinearRegression()\n",
        "linear_reg_1.fit(X_poly, y)"
      ],
      "metadata": {
        "id": "LD8lYRkAtrJ1"
      },
      "execution_count": null,
      "outputs": []
    },
    {
      "cell_type": "code",
      "source": [
        "# Training the Polynomial Regression model on the whole dataset with degree 4\n",
        "from sklearn.preprocessing import PolynomialFeatures\n",
        "\n",
        "regressor_3 = PolynomialFeatures(degree = 4)\n",
        "X_poly_2 = regressor_3.fit_transform(X)\n",
        "linear_reg_2 = LinearRegression()\n",
        "linear_reg_2.fit(X_poly_2, y)"
      ],
      "metadata": {
        "id": "xqrt0gm7vPp5"
      },
      "execution_count": null,
      "outputs": []
    },
    {
      "cell_type": "code",
      "source": [
        "# Visualising the Linear Regression results\n",
        "plt.scatter(X, y, color = 'red')\n",
        "plt.plot(X, regressor.predict(X), color = 'blue')\n",
        "plt.title(\"Linear Regression Model\")\n",
        "plt.xlabel(\"Position Level\")\n",
        "plt.ylabel('Salaries')\n",
        "plt.show()"
      ],
      "metadata": {
        "id": "sBC_0shCugYF"
      },
      "execution_count": null,
      "outputs": []
    },
    {
      "cell_type": "code",
      "source": [
        "# Visualising the Polynomial Regression results with degree 2\n",
        "plt.scatter(X, y, color = 'red')\n",
        "plt.plot(X, linear_reg_1.predict(X_poly), color = 'blue')\n",
        "plt.title(\"Polynomial Regression Model\")\n",
        "plt.xlabel(\"Position Level\")\n",
        "plt.ylabel('Salaries')\n",
        "plt.show()"
      ],
      "metadata": {
        "id": "AU0Pgmkeu6wB"
      },
      "execution_count": null,
      "outputs": []
    },
    {
      "cell_type": "code",
      "source": [
        "# Visualising the Polynomial Regression results with degree 4\n",
        "plt.scatter(X, y, color = 'red')\n",
        "plt.plot(X, linear_reg_2.predict(X_poly_2), color = 'blue')\n",
        "plt.title(\"Polynomial Regression Model\")\n",
        "plt.xlabel(\"Position Level\")\n",
        "plt.ylabel('Salaries')\n",
        "plt.show()"
      ],
      "metadata": {
        "id": "Jru0D-xyvLqD"
      },
      "execution_count": null,
      "outputs": []
    },
    {
      "cell_type": "code",
      "source": [
        "# Predicting a new result with Linear Regression\n",
        "regressor.predict([[6.5]])"
      ],
      "metadata": {
        "id": "_zi5ibV_vgoP"
      },
      "execution_count": null,
      "outputs": []
    },
    {
      "cell_type": "code",
      "source": [
        "# Predicting a new result with Polynomial Regression\n",
        "linear_reg_2.predict(regressor_3.fit_transform([[6.5]]))"
      ],
      "metadata": {
        "id": "uXBfT1Lew1Da"
      },
      "execution_count": null,
      "outputs": []
    }
  ]
}